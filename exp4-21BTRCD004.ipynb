{
 "cells": [
  {
   "cell_type": "code",
   "execution_count": 1,
   "id": "983d1970",
   "metadata": {},
   "outputs": [],
   "source": [
    "import numpy as np\n",
    "import pandas as pd"
   ]
  },
  {
   "cell_type": "code",
   "execution_count": 2,
   "id": "3b905487",
   "metadata": {},
   "outputs": [],
   "source": [
    "d={'USN':[100,101,102],\n",
    "   'name':['raj','ram','rajesh'],\n",
    "  'mobile':[99,88,77],\n",
    "   'marks':[10,9,8]\n",
    "  }"
   ]
  },
  {
   "cell_type": "code",
   "execution_count": 3,
   "id": "37273217",
   "metadata": {},
   "outputs": [],
   "source": [
    "std=pd.DataFrame(d)"
   ]
  },
  {
   "cell_type": "code",
   "execution_count": 4,
   "id": "02bff87a",
   "metadata": {},
   "outputs": [
    {
     "name": "stdout",
     "output_type": "stream",
     "text": [
      "   USN    name  mobile  marks\n",
      "0  100     raj      99     10\n",
      "1  101     ram      88      9\n",
      "2  102  rajesh      77      8\n"
     ]
    }
   ],
   "source": [
    "print(std)"
   ]
  },
  {
   "cell_type": "code",
   "execution_count": 5,
   "id": "77e83e0c",
   "metadata": {},
   "outputs": [],
   "source": [
    "d1={'c1':[12,13,14],\n",
    "    'c2':[10,11,12]\n",
    "   };\n",
    "d2={'c3':[5,6,7],\n",
    "    'c4':[1,2,3]\n",
    "   };\n",
    "d3={'c5':[123,456,678],\n",
    "    'c6':[3,4,5]\n",
    "   };"
   ]
  },
  {
   "cell_type": "code",
   "execution_count": 6,
   "id": "866b50df",
   "metadata": {},
   "outputs": [],
   "source": [
    "df1=pd.DataFrame(d1)"
   ]
  },
  {
   "cell_type": "code",
   "execution_count": 7,
   "id": "d4313550",
   "metadata": {},
   "outputs": [
    {
     "name": "stdout",
     "output_type": "stream",
     "text": [
      "   c1  c2\n",
      "0  12  10\n",
      "1  13  11\n",
      "2  14  12\n"
     ]
    }
   ],
   "source": [
    "print(df1)"
   ]
  },
  {
   "cell_type": "code",
   "execution_count": 8,
   "id": "e158f2b8",
   "metadata": {},
   "outputs": [],
   "source": [
    "df2=pd.DataFrame(d2)"
   ]
  },
  {
   "cell_type": "code",
   "execution_count": 9,
   "id": "95d618bd",
   "metadata": {},
   "outputs": [
    {
     "name": "stdout",
     "output_type": "stream",
     "text": [
      "   c3  c4\n",
      "0   5   1\n",
      "1   6   2\n",
      "2   7   3\n"
     ]
    }
   ],
   "source": [
    "print(df2)"
   ]
  },
  {
   "cell_type": "code",
   "execution_count": 10,
   "id": "4cf5b555",
   "metadata": {},
   "outputs": [],
   "source": [
    "df3=pd.DataFrame(d3)"
   ]
  },
  {
   "cell_type": "code",
   "execution_count": 11,
   "id": "11c73ffa",
   "metadata": {},
   "outputs": [
    {
     "name": "stdout",
     "output_type": "stream",
     "text": [
      "    c5  c6\n",
      "0  123   3\n",
      "1  456   4\n",
      "2  678   5\n"
     ]
    }
   ],
   "source": [
    "print(df3)"
   ]
  },
  {
   "cell_type": "code",
   "execution_count": 12,
   "id": "eb1e5ba6",
   "metadata": {},
   "outputs": [
    {
     "data": {
      "text/html": [
       "<div>\n",
       "<style scoped>\n",
       "    .dataframe tbody tr th:only-of-type {\n",
       "        vertical-align: middle;\n",
       "    }\n",
       "\n",
       "    .dataframe tbody tr th {\n",
       "        vertical-align: top;\n",
       "    }\n",
       "\n",
       "    .dataframe thead th {\n",
       "        text-align: right;\n",
       "    }\n",
       "</style>\n",
       "<table border=\"1\" class=\"dataframe\">\n",
       "  <thead>\n",
       "    <tr style=\"text-align: right;\">\n",
       "      <th></th>\n",
       "      <th>c1</th>\n",
       "      <th>c2</th>\n",
       "      <th>c3</th>\n",
       "      <th>c4</th>\n",
       "    </tr>\n",
       "  </thead>\n",
       "  <tbody>\n",
       "    <tr>\n",
       "      <th>0</th>\n",
       "      <td>12.0</td>\n",
       "      <td>10.0</td>\n",
       "      <td>NaN</td>\n",
       "      <td>NaN</td>\n",
       "    </tr>\n",
       "    <tr>\n",
       "      <th>1</th>\n",
       "      <td>13.0</td>\n",
       "      <td>11.0</td>\n",
       "      <td>NaN</td>\n",
       "      <td>NaN</td>\n",
       "    </tr>\n",
       "    <tr>\n",
       "      <th>2</th>\n",
       "      <td>14.0</td>\n",
       "      <td>12.0</td>\n",
       "      <td>NaN</td>\n",
       "      <td>NaN</td>\n",
       "    </tr>\n",
       "    <tr>\n",
       "      <th>0</th>\n",
       "      <td>NaN</td>\n",
       "      <td>NaN</td>\n",
       "      <td>5.0</td>\n",
       "      <td>1.0</td>\n",
       "    </tr>\n",
       "    <tr>\n",
       "      <th>1</th>\n",
       "      <td>NaN</td>\n",
       "      <td>NaN</td>\n",
       "      <td>6.0</td>\n",
       "      <td>2.0</td>\n",
       "    </tr>\n",
       "    <tr>\n",
       "      <th>2</th>\n",
       "      <td>NaN</td>\n",
       "      <td>NaN</td>\n",
       "      <td>7.0</td>\n",
       "      <td>3.0</td>\n",
       "    </tr>\n",
       "  </tbody>\n",
       "</table>\n",
       "</div>"
      ],
      "text/plain": [
       "     c1    c2   c3   c4\n",
       "0  12.0  10.0  NaN  NaN\n",
       "1  13.0  11.0  NaN  NaN\n",
       "2  14.0  12.0  NaN  NaN\n",
       "0   NaN   NaN  5.0  1.0\n",
       "1   NaN   NaN  6.0  2.0\n",
       "2   NaN   NaN  7.0  3.0"
      ]
     },
     "execution_count": 12,
     "metadata": {},
     "output_type": "execute_result"
    }
   ],
   "source": [
    "pd.concat([df1,df2])"
   ]
  },
  {
   "cell_type": "markdown",
   "id": "a9967a6f",
   "metadata": {},
   "source": [
    "Join types 1.inner combine 2 data frames based on common clomun name : on 2.right 3.left 4.outer"
   ]
  },
  {
   "cell_type": "code",
   "execution_count": 13,
   "id": "4b576550",
   "metadata": {},
   "outputs": [],
   "source": [
    "d4={'c1':[12,13,14],\n",
    "    'c2':[10,11,12]\n",
    "   };\n",
    "d5={'c2':[5,6,7],\n",
    "    'c4':[1,2,3]\n",
    "   };"
   ]
  },
  {
   "cell_type": "code",
   "execution_count": 14,
   "id": "6cae6aca",
   "metadata": {},
   "outputs": [],
   "source": [
    "df4=pd.DataFrame(d4)\n",
    "df5=pd.DataFrame(d5)"
   ]
  },
  {
   "cell_type": "code",
   "execution_count": 15,
   "id": "fe91bd83",
   "metadata": {},
   "outputs": [
    {
     "data": {
      "text/html": [
       "<div>\n",
       "<style scoped>\n",
       "    .dataframe tbody tr th:only-of-type {\n",
       "        vertical-align: middle;\n",
       "    }\n",
       "\n",
       "    .dataframe tbody tr th {\n",
       "        vertical-align: top;\n",
       "    }\n",
       "\n",
       "    .dataframe thead th {\n",
       "        text-align: right;\n",
       "    }\n",
       "</style>\n",
       "<table border=\"1\" class=\"dataframe\">\n",
       "  <thead>\n",
       "    <tr style=\"text-align: right;\">\n",
       "      <th></th>\n",
       "      <th>c1</th>\n",
       "      <th>c2</th>\n",
       "      <th>c4</th>\n",
       "    </tr>\n",
       "  </thead>\n",
       "  <tbody>\n",
       "  </tbody>\n",
       "</table>\n",
       "</div>"
      ],
      "text/plain": [
       "Empty DataFrame\n",
       "Columns: [c1, c2, c4]\n",
       "Index: []"
      ]
     },
     "execution_count": 15,
     "metadata": {},
     "output_type": "execute_result"
    }
   ],
   "source": [
    "pd.merge(df4,df5,how='inner',on='c2')\n",
    "# returns only rows which are common "
   ]
  },
  {
   "cell_type": "code",
   "execution_count": 16,
   "id": "b09a6f4c",
   "metadata": {},
   "outputs": [],
   "source": [
    "d6={'c1':[12,13,14,11],\n",
    "    'c2':[5,6,7,10]\n",
    "   };\n",
    "d7={'c2':[5,6,7,9],\n",
    "    'c4':[1,2,3,7]\n",
    "   };\n",
    "d8={'c2':[5,6,7],\n",
    "    'c4':[1,2,3]\n",
    "   };"
   ]
  },
  {
   "cell_type": "code",
   "execution_count": 17,
   "id": "9fb28e9c",
   "metadata": {},
   "outputs": [],
   "source": [
    "df6=pd.DataFrame(d6)\n",
    "df7=pd.DataFrame(d7)\n",
    "df8=pd.DataFrame(d8)"
   ]
  },
  {
   "cell_type": "code",
   "execution_count": 18,
   "id": "42e6e09b",
   "metadata": {},
   "outputs": [
    {
     "data": {
      "text/html": [
       "<div>\n",
       "<style scoped>\n",
       "    .dataframe tbody tr th:only-of-type {\n",
       "        vertical-align: middle;\n",
       "    }\n",
       "\n",
       "    .dataframe tbody tr th {\n",
       "        vertical-align: top;\n",
       "    }\n",
       "\n",
       "    .dataframe thead th {\n",
       "        text-align: right;\n",
       "    }\n",
       "</style>\n",
       "<table border=\"1\" class=\"dataframe\">\n",
       "  <thead>\n",
       "    <tr style=\"text-align: right;\">\n",
       "      <th></th>\n",
       "      <th>c1</th>\n",
       "      <th>c2</th>\n",
       "      <th>c4</th>\n",
       "    </tr>\n",
       "  </thead>\n",
       "  <tbody>\n",
       "    <tr>\n",
       "      <th>0</th>\n",
       "      <td>12</td>\n",
       "      <td>5</td>\n",
       "      <td>1.0</td>\n",
       "    </tr>\n",
       "    <tr>\n",
       "      <th>1</th>\n",
       "      <td>13</td>\n",
       "      <td>6</td>\n",
       "      <td>2.0</td>\n",
       "    </tr>\n",
       "    <tr>\n",
       "      <th>2</th>\n",
       "      <td>14</td>\n",
       "      <td>7</td>\n",
       "      <td>3.0</td>\n",
       "    </tr>\n",
       "    <tr>\n",
       "      <th>3</th>\n",
       "      <td>11</td>\n",
       "      <td>10</td>\n",
       "      <td>NaN</td>\n",
       "    </tr>\n",
       "  </tbody>\n",
       "</table>\n",
       "</div>"
      ],
      "text/plain": [
       "   c1  c2   c4\n",
       "0  12   5  1.0\n",
       "1  13   6  2.0\n",
       "2  14   7  3.0\n",
       "3  11  10  NaN"
      ]
     },
     "execution_count": 18,
     "metadata": {},
     "output_type": "execute_result"
    }
   ],
   "source": [
    "pd.merge(df6,df7,how='left',on='c2')"
   ]
  },
  {
   "cell_type": "code",
   "execution_count": null,
   "id": "cb7852f1",
   "metadata": {},
   "outputs": [],
   "source": []
  }
 ],
 "metadata": {
  "kernelspec": {
   "display_name": "Python 3 (ipykernel)",
   "language": "python",
   "name": "python3"
  },
  "language_info": {
   "codemirror_mode": {
    "name": "ipython",
    "version": 3
   },
   "file_extension": ".py",
   "mimetype": "text/x-python",
   "name": "python",
   "nbconvert_exporter": "python",
   "pygments_lexer": "ipython3",
   "version": "3.9.13"
  }
 },
 "nbformat": 4,
 "nbformat_minor": 5
}
